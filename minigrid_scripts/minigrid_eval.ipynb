{
 "cells": [
  {
   "cell_type": "code",
   "execution_count": null,
   "metadata": {},
   "outputs": [
    {
     "name": "stdout",
     "output_type": "stream",
     "text": [
      "Using cuda device\n",
      "Wrapping the env with a `Monitor` wrapper\n",
      "Wrapping the env in a DummyVecEnv.\n",
      "Wrapping the env in a VecTransposeImage.\n",
      "---------------------------------\n",
      "| rollout/           |          |\n",
      "|    ep_len_mean     | 1.02e+03 |\n",
      "|    ep_rew_mean     | 0        |\n",
      "| time/              |          |\n",
      "|    fps             | 328      |\n",
      "|    iterations      | 1        |\n",
      "|    time_elapsed    | 6        |\n",
      "|    total_timesteps | 2048     |\n",
      "---------------------------------\n"
     ]
    }
   ],
   "source": [
    "# define the config\n",
    "import mgcfg\n",
    "\n",
    "cfg = mgcfg.base_cfg\n",
    "cfg.name = \"empty_env\"\n",
    "\n",
    "# for testing\n",
    "cfg.policy['n_timesteps'] = 1000\n",
    "cfg.policy['id'] = 'cnn_1e3'\n",
    "cfg.policy['name'] = 'CnnPolicy'\n",
    "\n",
    "# if on google colab, mount drive and set the path\n",
    "on_drive = False\n",
    "if on_drive:\n",
    "    from google.colab import drive\n",
    "    drive.mount('/content/drive')\n",
    "    cfg.storage_dir = \"/content/drive/My Drive/MGDiffuser\"\n",
    "\n",
    "exp = mgcfg.Experiment(cfg)\n",
    "cfg.save_to_json()\n",
    "\n",
    "# train the policy\n",
    "cfg_path = str(cfg.cfg_path)\n",
    "\n",
    "\n",
    "!python train_policy.py --cfg $cfg_path"
   ]
  },
  {
   "cell_type": "code",
   "execution_count": 3,
   "metadata": {},
   "outputs": [
    {
     "name": "stdout",
     "output_type": "stream",
     "text": [
      "Traceback (most recent call last):\n",
      "  File \"/mnt/vol2/il_assignments/diffuser/minigrid_scripts/collect_trajectories.py\", line 40, in <module>\n",
      "    def collect_episodes(policy, env, coder : EnvFeatureCoderBase, cfg: mgcfg.Cfg):\n",
      "                                                                        ^^^^^\n",
      "NameError: name 'mgcfg' is not defined\n"
     ]
    }
   ],
   "source": [
    "# collect trajectories\n",
    "!python collect_trajectories.py --cfg $cfg_path"
   ]
  },
  {
   "cell_type": "code",
   "execution_count": null,
   "metadata": {},
   "outputs": [],
   "source": [
    "# train the diffuser\n",
    "!python train_diffuser.py --cfg $cfg_path"
   ]
  },
  {
   "cell_type": "code",
   "execution_count": null,
   "metadata": {},
   "outputs": [],
   "source": [
    "# evaluate the diffuser\n",
    "!python evaluate_diffuser.py --cfg $cfg_path"
   ]
  }
 ],
 "metadata": {
  "kernelspec": {
   "display_name": ".venv",
   "language": "python",
   "name": "python3"
  },
  "language_info": {
   "codemirror_mode": {
    "name": "ipython",
    "version": 3
   },
   "file_extension": ".py",
   "mimetype": "text/x-python",
   "name": "python",
   "nbconvert_exporter": "python",
   "pygments_lexer": "ipython3",
   "version": "3.12.3"
  }
 },
 "nbformat": 4,
 "nbformat_minor": 2
}
