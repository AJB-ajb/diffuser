{
 "cells": [
  {
   "cell_type": "code",
   "execution_count": null,
   "metadata": {},
   "outputs": [],
   "source": []
  },
  {
   "cell_type": "code",
   "execution_count": 2,
   "metadata": {},
   "outputs": [
    {
     "name": "stdout",
     "output_type": "stream",
     "text": [
      "Using cuda device\n",
      "Wrapping the env with a `Monitor` wrapper\n",
      "Wrapping the env in a DummyVecEnv.\n",
      "Wrapping the env in a VecTransposeImage.\n"
     ]
    }
   ],
   "source": [
    "import minigrid\n",
    "from minigrid.wrappers import ImgObsWrapper\n",
    "from stable_baselines3 import PPO\n",
    "\n",
    "policy_kwargs = dict(\n",
    "    features_extractor_class=MinigridFeaturesExtractor,\n",
    "    features_extractor_kwargs=dict(features_dim=128),\n",
    ")\n",
    "\n",
    "env = gym.make(\"MiniGrid-Empty-16x16-v0\", render_mode=\"rgb_array\")\n",
    "env = ImgObsWrapper(env)\n",
    "\n",
    "model = PPO(\"CnnPolicy\", env, policy_kwargs=policy_kwargs, verbose=1)\n",
    "# model.learn(2e5) # previously 2e5 timesteps"
   ]
  },
  {
   "cell_type": "code",
   "execution_count": 3,
   "metadata": {},
   "outputs": [],
   "source": [
    "from pathlib import Path\n",
    "# save model\n",
    "base_path = Path.cwd() / \"models\"\n",
    "\n",
    "# model.save(base_path / \"ppo_minigrid_2e5\")\n",
    "#model.get_parameters()"
   ]
  },
  {
   "cell_type": "code",
   "execution_count": 4,
   "metadata": {},
   "outputs": [
    {
     "data": {
      "text/plain": [
       "<minigrid.core.world_object.Goal at 0x7b20125a20c0>"
      ]
     },
     "execution_count": 4,
     "metadata": {},
     "output_type": "execute_result"
    }
   ],
   "source": [
    "base_env = env.unwrapped\n",
    "base_env.agent_start_pos = (1, 1)\n",
    "base_env.reset()\n",
    "base_env.grid.width\n",
    "grid = base_env.grid\n",
    "grid.get(14, 14)"
   ]
  },
  {
   "cell_type": "code",
   "execution_count": 8,
   "metadata": {},
   "outputs": [
    {
     "ename": "TypeError",
     "evalue": "'Discrete' object is not iterable",
     "output_type": "error",
     "traceback": [
      "\u001b[0;31m---------------------------------------------------------------------------\u001b[0m",
      "\u001b[0;31mTypeError\u001b[0m                                 Traceback (most recent call last)",
      "Cell \u001b[0;32mIn[8], line 1\u001b[0m\n\u001b[0;32m----> 1\u001b[0m \u001b[38;5;28;43mlist\u001b[39;49m\u001b[43m(\u001b[49m\u001b[43mbase_env\u001b[49m\u001b[38;5;241;43m.\u001b[39;49m\u001b[43maction_space\u001b[49m\u001b[43m)\u001b[49m\n",
      "\u001b[0;31mTypeError\u001b[0m: 'Discrete' object is not iterable"
     ]
    }
   ],
   "source": [
    "list(base_env.action_space)"
   ]
  },
  {
   "cell_type": "code",
   "execution_count": 75,
   "metadata": {},
   "outputs": [
    {
     "name": "stdout",
     "output_type": "stream",
     "text": [
      "(1, 1)\n",
      "0\n",
      "(2, 1)\n",
      "3\n",
      "2\n"
     ]
    }
   ],
   "source": [
    "from minigrid.core.actions import Actions\n",
    "base_env.reset()\n",
    "print(base_env.agent_pos)\n",
    "print(base_env.agent_dir)\n",
    "assert 0 == Actions.left\n",
    "base_env.step(Actions.forward)\n",
    "print(base_env.agent_pos)\n",
    "\n",
    "base_env.step(0) # rotate left\n",
    "print(base_env.agent_dir)\n",
    "base_env.step(0)\n",
    "print(base_env.agent_dir)"
   ]
  },
  {
   "cell_type": "code",
   "execution_count": 29,
   "metadata": {},
   "outputs": [
    {
     "data": {
      "text/plain": [
       "(1, 1)"
      ]
     },
     "execution_count": 29,
     "metadata": {},
     "output_type": "execute_result"
    }
   ],
   "source": [
    "base_env.agent_pos"
   ]
  },
  {
   "cell_type": "code",
   "execution_count": null,
   "metadata": {},
   "outputs": [
    {
     "data": {
      "text/plain": [
       "<ImgObsWrapper<OrderEnforcing<PassiveEnvChecker<EmptyEnv<MiniGrid-Empty-16x16-v0>>>>>"
      ]
     },
     "execution_count": 124,
     "metadata": {},
     "output_type": "execute_result"
    }
   ],
   "source": [
    "import numpy as np\n",
    "\n",
    "np.random.randint([0, 1], [5, 3])\n",
    "\n",
    "env\n",
    "model.predict(deter)"
   ]
  },
  {
   "cell_type": "code",
   "execution_count": null,
   "metadata": {},
   "outputs": [
    {
     "data": {
      "text/plain": [
       "{'BAMF_DESKTOP_FILE_HINT': '/var/lib/snapd/desktop/applications/code_code.desktop',\n",
       " 'CHROME_DESKTOP': 'code.desktop',\n",
       " 'CONDA_DEFAULT_ENV': 'base',\n",
       " 'CONDA_EXE': '/home/ajb/miniconda3/bin/conda',\n",
       " 'CONDA_PREFIX': '/home/ajb/miniconda3',\n",
       " 'CONDA_PROMPT_MODIFIER': '(base) ',\n",
       " 'CONDA_PYTHON_EXE': '/home/ajb/miniconda3/bin/python',\n",
       " 'CONDA_SHLVL': '1',\n",
       " 'CUPS_USER': 'cet7419',\n",
       " 'DBUS_SESSION_BUS_ADDRESS': 'unix:path=/run/user/1000/bus',\n",
       " 'DEBUGINFOD_URLS': 'https://debuginfod.ubuntu.com ',\n",
       " 'DESKTOP_SESSION': 'ubuntu',\n",
       " 'DISPLAY': ':1',\n",
       " 'ELECTRON_NO_ATTACH_CONSOLE': '1',\n",
       " 'GDK_BACKEND': 'x11',\n",
       " 'GDK_PIXBUF_MODULEDIR': '/snap/code/176/usr/lib/x86_64-linux-gnu/gdk-pixbuf-2.0/2.10.0/loaders',\n",
       " 'GDK_PIXBUF_MODULE_FILE': '/home/ajb/snap/code/common/.cache/gdk-pixbuf-loaders.cache',\n",
       " 'GDMSESSION': 'ubuntu',\n",
       " 'GIO_LAUNCHED_DESKTOP_FILE': '/var/lib/snapd/desktop/applications/code_code.desktop',\n",
       " 'GIO_LAUNCHED_DESKTOP_FILE_PID': '7847',\n",
       " 'GIO_MODULE_DIR': '/home/ajb/snap/code/common/.cache/gio-modules',\n",
       " 'GJS_DEBUG_OUTPUT': 'stderr',\n",
       " 'GJS_DEBUG_TOPICS': 'JS ERROR;JS LOG',\n",
       " 'GNOME_DESKTOP_SESSION_ID': 'this-is-deprecated',\n",
       " 'GNOME_SHELL_SESSION_MODE': 'ubuntu',\n",
       " 'GPG_AGENT_INFO': '/run/user/1000/gnupg/S.gpg-agent:0:1',\n",
       " 'GSETTINGS_SCHEMA_DIR': '/home/ajb/snap/code/176/.local/share/glib-2.0/schemas',\n",
       " 'GSM_SKIP_SSH_AGENT_WORKAROUND': 'true',\n",
       " 'GTK_EXE_PREFIX': '/snap/code/176/usr',\n",
       " 'GTK_IM_MODULE_FILE': '/home/ajb/snap/code/common/.cache/immodules/immodules.cache',\n",
       " 'GTK_MODULES': 'gail:atk-bridge',\n",
       " 'GTK_PATH': '/snap/code/176/usr/lib/x86_64-linux-gnu/gtk-3.0',\n",
       " 'HOME': '/home/ajb',\n",
       " 'IM_CONFIG_PHASE': '1',\n",
       " 'INVOCATION_ID': 'ebaff07137fa4352a7f0e62b7c5da892',\n",
       " 'JOURNAL_STREAM': '8:24749',\n",
       " 'LANG': 'en_US.UTF-8',\n",
       " 'LC_ADDRESS': 'de_DE.UTF-8',\n",
       " 'LC_IDENTIFICATION': 'de_DE.UTF-8',\n",
       " 'LC_MEASUREMENT': 'de_DE.UTF-8',\n",
       " 'LC_MONETARY': 'de_DE.UTF-8',\n",
       " 'LC_NAME': 'de_DE.UTF-8',\n",
       " 'LC_NUMERIC': 'de_DE.UTF-8',\n",
       " 'LC_PAPER': 'de_DE.UTF-8',\n",
       " 'LC_TELEPHONE': 'de_DE.UTF-8',\n",
       " 'LC_TIME': 'de_DE.UTF-8',\n",
       " 'LD_LIBRARY_PATH': ':/home/ajb/.mujoco/mujoco210/bin:/usr/lib/nvidia',\n",
       " 'LESSCLOSE': '/usr/bin/lesspipe %s %s',\n",
       " 'LESSOPEN': '| /usr/bin/lesspipe %s',\n",
       " 'LOCPATH': '/snap/code/176/usr/lib/locale',\n",
       " 'LOGNAME': 'ajb',\n",
       " 'MANAGERPID': '2195',\n",
       " 'MEMORY_PRESSURE_WATCH': '/sys/fs/cgroup/user.slice/user-1000.slice/user@1000.service/session.slice/org.gnome.Shell@x11.service/memory.pressure',\n",
       " 'MEMORY_PRESSURE_WRITE': 'c29tZSAyMDAwMDAgMjAwMDAwMAA=',\n",
       " 'MUJOCO_GL': 'glx',\n",
       " 'OPENAI_API_KEY': '<hidden>',\n",
       " 'ORIGINAL_XDG_CURRENT_DESKTOP': 'ubuntu:GNOME',\n",
       " 'PATH': '/mnt/vol2/il_assignments/Project2/.venv/bin:/home/ajb/.local/bin:/home/ajb/miniconda3/bin:/home/ajb/miniconda3/condabin:/home/ajb/.cargo/bin:/home/ajb/.local/bin:/usr/local/sbin:/usr/local/bin:/usr/sbin:/usr/bin:/sbin:/bin:/usr/games:/usr/local/games:/snap/bin:/snap/bin:/home/ajb/.local/bin',\n",
       " 'PWD': '/home/ajb',\n",
       " 'QT_ACCESSIBILITY': '1',\n",
       " 'QT_IM_MODULE': 'ibus',\n",
       " 'SESSION_MANAGER': 'local/ajb-Laptop:@/tmp/.ICE-unix/2590,unix/ajb-Laptop:/tmp/.ICE-unix/2590',\n",
       " 'SHELL': '/bin/bash',\n",
       " 'SHLVL': '0',\n",
       " 'SNAP': '/snap/code/176',\n",
       " 'SNAP_ARCH': 'amd64',\n",
       " 'SNAP_COMMON': '/var/snap/code/common',\n",
       " 'SNAP_CONTEXT': 'WBLcxOwmApM8V25JC0rPUEPmq3P2lEqMg265Yw3Lsdfi0WoGpuwM',\n",
       " 'SNAP_COOKIE': 'WBLcxOwmApM8V25JC0rPUEPmq3P2lEqMg265Yw3Lsdfi0WoGpuwM',\n",
       " 'SNAP_DATA': '/var/snap/code/176',\n",
       " 'SNAP_EUID': '1000',\n",
       " 'SNAP_INSTANCE_NAME': 'code',\n",
       " 'SNAP_LAUNCHER_ARCH_TRIPLET': 'x86_64-linux-gnu',\n",
       " 'SNAP_LIBRARY_PATH': '/var/lib/snapd/lib/gl:/var/lib/snapd/lib/gl32:/var/lib/snapd/void',\n",
       " 'SNAP_NAME': 'code',\n",
       " 'SNAP_REAL_HOME': '/home/ajb',\n",
       " 'SNAP_REVISION': '176',\n",
       " 'SNAP_UID': '1000',\n",
       " 'SNAP_USER_COMMON': '/home/ajb/snap/code/common',\n",
       " 'SNAP_USER_DATA': '/home/ajb/snap/code/176',\n",
       " 'SNAP_VERSION': 'f1a4fb10',\n",
       " 'SSH_AUTH_SOCK': '/run/user/1000/keyring/ssh',\n",
       " 'SYSTEMD_EXEC_PID': '2634',\n",
       " 'USER': 'ajb',\n",
       " 'USERNAME': 'ajb',\n",
       " 'VSCODE_CLI': '1',\n",
       " 'VSCODE_CODE_CACHE_PATH': '/home/ajb/.config/Code/CachedData/f1a4fb101478ce6ec82fe9627c43efbf9e98c813',\n",
       " 'VSCODE_CRASH_REPORTER_PROCESS_TYPE': 'extensionHost',\n",
       " 'VSCODE_CWD': '/home/ajb',\n",
       " 'VSCODE_ESM_ENTRYPOINT': 'vs/workbench/api/node/extensionHostProcess',\n",
       " 'VSCODE_HANDLES_UNCAUGHT_ERRORS': 'true',\n",
       " 'VSCODE_IPC_HOOK': '/run/user/1000/vscode-b2d576c1-1.95-main.sock',\n",
       " 'VSCODE_NLS_CONFIG': '{\"userLocale\":\"en-us\",\"osLocale\":\"en-us\",\"resolvedLanguage\":\"en\",\"defaultMessagesFile\":\"/snap/code/176/usr/share/code/resources/app/out/nls.messages.json\",\"locale\":\"en-us\",\"availableLanguages\":{}}',\n",
       " 'VSCODE_PID': '7896',\n",
       " 'WINDOWPATH': '2',\n",
       " 'XAUTHORITY': '/run/user/1000/gdm/Xauthority',\n",
       " 'XDG_CONFIG_DIRS': '/etc/xdg/xdg-ubuntu:/etc/xdg',\n",
       " 'XDG_CONFIG_DIRS_VSCODE_SNAP_ORIG': '/etc/xdg/xdg-ubuntu:/etc/xdg',\n",
       " 'XDG_CURRENT_DESKTOP': 'Unity',\n",
       " 'XDG_DATA_DIRS': '/home/ajb/snap/code/176/.local/share/flatpak/exports/share:/home/ajb/snap/code/176/.local/share:/home/ajb/snap/code/176:/snap/code/176/usr/share:/usr/share/ubuntu:/usr/share/gnome:/home/ajb/.local/share/flatpak/exports/share:/var/lib/flatpak/exports/share:/usr/local/share/:/usr/share/:/var/lib/snapd/desktop',\n",
       " 'XDG_DATA_DIRS_VSCODE_SNAP_ORIG': '/usr/share/ubuntu:/usr/share/gnome:/home/ajb/.local/share/flatpak/exports/share:/var/lib/flatpak/exports/share:/usr/local/share/:/usr/share/:/var/lib/snapd/desktop',\n",
       " 'XDG_DATA_HOME': '/home/ajb/snap/code/176/.local/share',\n",
       " 'XDG_MENU_PREFIX': 'gnome-',\n",
       " 'XDG_RUNTIME_DIR': '/run/user/1000',\n",
       " 'XDG_SESSION_CLASS': 'user',\n",
       " 'XDG_SESSION_DESKTOP': 'ubuntu',\n",
       " 'XDG_SESSION_TYPE': 'x11',\n",
       " 'XMODIFIERS': '@im=ibus',\n",
       " '_': '/mnt/vol2/il_assignments/Project2/.venv/bin/python',\n",
       " 'ELECTRON_RUN_AS_NODE': '1',\n",
       " 'VSCODE_L10N_BUNDLE_LOCATION': '',\n",
       " 'PYTHONUNBUFFERED': '1',\n",
       " 'VIRTUAL_ENV': '/mnt/vol2/il_assignments/Project2/.venv',\n",
       " 'PYTHONIOENCODING': 'utf-8',\n",
       " 'VIRTUAL_ENV_PROMPT': '(.venv) ',\n",
       " 'PS1': '(.venv) ',\n",
       " 'PYDEVD_IPYTHON_COMPATIBLE_DEBUGGING': '1',\n",
       " 'PYTHON_FROZEN_MODULES': 'on',\n",
       " 'PYDEVD_USE_FRAME_EVAL': 'NO',\n",
       " 'TERM': 'xterm-color',\n",
       " 'CLICOLOR': '1',\n",
       " 'FORCE_COLOR': '1',\n",
       " 'CLICOLOR_FORCE': '1',\n",
       " 'PAGER': 'cat',\n",
       " 'GIT_PAGER': 'cat',\n",
       " 'MPLBACKEND': 'module://matplotlib_inline.backend_inline'}"
      ]
     },
     "execution_count": 4,
     "metadata": {},
     "output_type": "execute_result"
    }
   ],
   "source": []
  }
 ],
 "metadata": {
  "kernelspec": {
   "display_name": ".venv",
   "language": "python",
   "name": "python3"
  },
  "language_info": {
   "codemirror_mode": {
    "name": "ipython",
    "version": 3
   },
   "file_extension": ".py",
   "mimetype": "text/x-python",
   "name": "python",
   "nbconvert_exporter": "python",
   "pygments_lexer": "ipython3",
   "version": "3.12.3"
  }
 },
 "nbformat": 4,
 "nbformat_minor": 2
}
